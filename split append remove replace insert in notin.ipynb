{
 "cells": [
  {
   "cell_type": "code",
   "execution_count": 18,
   "metadata": {},
   "outputs": [
    {
     "name": "stdout",
     "output_type": "stream",
     "text": [
      "['Rayeerth', 'Dasgupta']\n"
     ]
    }
   ],
   "source": [
    "a = \"Rayeerth Dasgupta\"\n",
    "print(a.split(\" \"))\n"
   ]
  },
  {
   "cell_type": "code",
   "execution_count": 21,
   "metadata": {},
   "outputs": [
    {
     "data": {
      "text/plain": [
       "['colo1', 'colo2', 'colo3', 'colo4']"
      ]
     },
     "execution_count": 21,
     "metadata": {},
     "output_type": "execute_result"
    }
   ],
   "source": [
    "colo = [\"colo1\",\"colo2\",\"colo3\"]\n",
    "\n",
    "colo.append(\"colo4\")\n",
    "colo"
   ]
  },
  {
   "cell_type": "code",
   "execution_count": 10,
   "metadata": {},
   "outputs": [
    {
     "name": "stdout",
     "output_type": "stream",
     "text": [
      "atpugsaD htreeyaR\n"
     ]
    },
    {
     "data": {
      "text/plain": [
       "['a', 'e', 'e']"
      ]
     },
     "execution_count": 10,
     "metadata": {},
     "output_type": "execute_result"
    }
   ],
   "source": [
    "CAD = [\"R\" , \"a\" , \"y\" , \"e\" , \"e\" , \"r\", \"t\" , \"h\"]\n",
    "ab = \"Rayeerth Dasgupta\"[::-1]\n",
    "\n",
    "print(ab)\n",
    "CAD.remove(\"R\")\n",
    "CAD.remove(\"y\")\n",
    "CAD.remove(\"r\")\n",
    "CAD.remove(\"t\")\n",
    "CAD.remove(\"h\")\n",
    "\n",
    "CAD\n"
   ]
  },
  {
   "cell_type": "code",
   "execution_count": 70,
   "metadata": {},
   "outputs": [
    {
     "name": "stdout",
     "output_type": "stream",
     "text": [
      "['S', 'o', 'h', 'a', 'm', ' ', 'D', 'a', 's', 'g', 'u', 'p', 't', 'a']\n",
      "Svhvm Dvsgvptv\n"
     ]
    }
   ],
   "source": [
    "def split(word): \n",
    "    return [char for char in word]  \n",
    "      \n",
    "word = 'Soham Dasgupta'\n",
    "S = (split(word))\n",
    "print(S)\n",
    "\n",
    "B = (word.replace(\"o\",\"v\"))\n",
    "C = (B.replace(\"a\",\"v\"))\n",
    "D = (C.replace(\"u\",\"v\"))\n",
    "print(D)\n",
    "\n"
   ]
  },
  {
   "cell_type": "code",
   "execution_count": 79,
   "metadata": {},
   "outputs": [
    {
     "data": {
      "text/plain": [
       "['Dasgupta', 'Soham', 'Dasgupta']"
      ]
     },
     "execution_count": 79,
     "metadata": {},
     "output_type": "execute_result"
    }
   ],
   "source": [
    "WE = [\"Soham\",\"Dasgupta\"]\n",
    "WE.insert(0, \"Dasgupta\")\n",
    "WE\n"
   ]
  },
  {
   "cell_type": "code",
   "execution_count": 80,
   "metadata": {},
   "outputs": [
    {
     "name": "stdout",
     "output_type": "stream",
     "text": [
      "Soham.Dasgupta\n"
     ]
    }
   ],
   "source": [
    "QWERTY = \"Soham Dasgupta\"\n",
    "print(QWERTY.replace(\" \",\".\"))"
   ]
  },
  {
   "cell_type": "code",
   "execution_count": 71,
   "metadata": {},
   "outputs": [
    {
     "name": "stdout",
     "output_type": "stream",
     "text": [
      "True\n"
     ]
    }
   ],
   "source": [
    "Q = \"Rayeerth\"\n",
    "x = \"Ray\" in Q\n",
    "print(x)"
   ]
  }
 ],
 "metadata": {
  "kernelspec": {
   "display_name": "Python 3",
   "language": "python",
   "name": "python3"
  },
  "language_info": {
   "codemirror_mode": {
    "name": "ipython",
    "version": 3
   },
   "file_extension": ".py",
   "mimetype": "text/x-python",
   "name": "python",
   "nbconvert_exporter": "python",
   "pygments_lexer": "ipython3",
   "version": "3.7.6"
  }
 },
 "nbformat": 4,
 "nbformat_minor": 4
}
